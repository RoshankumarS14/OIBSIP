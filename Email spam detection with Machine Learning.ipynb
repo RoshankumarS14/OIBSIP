{
 "cells": [
  {
   "cell_type": "markdown",
   "id": "12627740",
   "metadata": {},
   "source": [
    "<tr>\n",
    "<td align=\"center\">\n",
    " <div align=\"center\">\n",
    "   <font color=\"#21618C\" size=8px>\n",
    "   <b>Oasis Infobyte</b>\n",
    " <div align=\"center\">       \n",
    "   <font color=\"#21618C\" size=5px>\n",
    "   <b>Data Science Internship</b>\n",
    "<td width=\"30%\" align=\"center\" > <img src=\"oasis logo.jfif\"> "
   ]
  },
  {
   "cell_type": "markdown",
   "id": "8fae6611",
   "metadata": {},
   "source": [
    "<table align=\"left\" style=\"margin-left: 40px;\">\n",
    "<td>\n",
    "<font color=\"purple\" size=6px >            \n",
    "<b>Email Spam detection with Machine Learning</b>"
   ]
  },
  {
   "cell_type": "markdown",
   "id": "11159ef3",
   "metadata": {},
   "source": [
    "## **Author:** Roshankumar S"
   ]
  },
  {
   "cell_type": "markdown",
   "id": "1d70c553",
   "metadata": {},
   "source": [
    "## Predictive Modeling of Sales Based on Advertising Data\n",
    "* ##### [1. Logistic Regression](#introduction)\n",
    "* ##### [2. Problem Statement](#problem_statement)\n",
    "* ##### [3. Objective](#objective)\n",
    "* ##### [4. Dataset Description](#description)\n",
    "* ##### [5. Data Dictionary](#dictionary)\n",
    "* ##### [6. Prerequisite](#prerequisite)\n",
    "* ##### [7. Understanding and summarizing dataset](#understanding)\n",
    "* ##### [8. Data Visualization](#visualization)\n",
    "* ##### [9. Data preparation](#preparation)\n",
    "* ##### [10. Model developement](#model_developement)\n",
    "* ##### [11. Model Evaluation](#evaluation)\n",
    "* ##### [12. Conclusion](#conclusion)"
   ]
  },
  {
   "cell_type": "markdown",
   "id": "3e3da30d",
   "metadata": {},
   "source": [
    "<a id=\"introduction\"><a>\n",
    "## Logistic Regression\n",
    "<p style='text-align: justify; text-indent: 30px;'>\n",
    "Logistic Regression is a widely used statistical modeling technique for binary classification. It predicts the probability of an event occurring based on independent variables. By applying the logistic function to a linear combination of the predictors, it maps the outcome's probability between 0 and 1. Logistic regression is interpretable, efficient, and handles numerical and categorical predictors. It finds applications in various fields. However, it assumes linearity, independence of observations, and follows the logistic distribution. Assumptions should be assessed, and model performance evaluated."
   ]
  },
  {
   "cell_type": "markdown",
   "id": "c314dc4a",
   "metadata": {},
   "source": [
    "<a id=\"problem_statement\"><a>\n",
    "## Problem Statement\n",
    "<p style='text-align: justify;'> \n",
    "Develop a machine learning model that accurately identifies and classifies emails as either spam or non-spam (ham). The model should analyze the content and characteristics of emails to distinguish between legitimate and unwanted messages. By effectively detecting spam, the goal is to reduce the risk of users being exposed to malicious or unsolicited content, enhance email filtering systems, and improve overall email security and user experience."
   ]
  },
  {
   "cell_type": "markdown",
   "id": "01da9fba",
   "metadata": {},
   "source": [
    "<a id=\"objective\"><a>\n",
    "## Objective\n",
    "<p style='text-align: justify;'> \n",
    "To develop a robust and accurate machine learning model for spam detection that effectively identifies and classifies emails as either spam or non-spam. The objective is to minimize false positives (misclassifying legitimate emails as spam) and false negatives (allowing spam emails to reach the inbox). By achieving a high level of precision and recall in spam detection, the goal is to enhance email filtering systems, improve user experience, and mitigate the risks associated with unsolicited and potentially malicious content."
   ]
  },
  {
   "cell_type": "markdown",
   "id": "9100d66d",
   "metadata": {},
   "source": [
    "<a id=\"description\"><a>\n",
    "## Dataset Description\n",
    "<p style='text-align: justify;'>  \n",
    "The dataset used for spam detection consists of labeled email samples that are classified as either spam or non-spam (ham). It includes the text content of the emails as the primary feature for classification. Each email is assigned a label indicating whether it is spam or non-spam. The dataset is prepared and pre-labeled for training and evaluating machine learning models for spam detection. The content of the emails serves as the main input for analysis, feature engineering, and model development."
   ]
  },
  {
   "cell_type": "markdown",
   "id": "4dd890fa",
   "metadata": {},
   "source": [
    "<a id=\"dictionary\"><a>\n",
    "## Data Dictionary"
   ]
  },
  {
   "cell_type": "markdown",
   "id": "a775e874",
   "metadata": {},
   "source": [
    "**Email Content:** This feature represents the text content of the emails. It includes the body of the emails, subject lines, and any other relevant text information.\n",
    "\n",
    "**Label/Class:** This feature indicates whether each email is classified as spam or non-spam (ham). It is a binary variable, with \"spam\" representing unwanted or unsolicited messages and \"non-spam\" representing legitimate emails."
   ]
  },
  {
   "cell_type": "markdown",
   "id": "9d09b8fa",
   "metadata": {},
   "source": [
    "<a id=\"prerequisite\"><a>\n",
    "## Prerequisite"
   ]
  },
  {
   "cell_type": "markdown",
   "id": "5596f27a",
   "metadata": {},
   "source": [
    "### Import Libraries"
   ]
  },
  {
   "cell_type": "code",
   "execution_count": 1,
   "id": "0bb2a28e",
   "metadata": {},
   "outputs": [],
   "source": [
    "# Import numpy to perform mathematical operations on the dataset\n",
    "import numpy as np\n",
    "# Import pandas for storing , retrieving and manipulating 2-dimensional data in the form of table\n",
    "import pandas as pd\n",
    "# Import matplotlib for visualization tools\n",
    "import matplotlib.pyplot as plt\n",
    "# Import seaborn for better visualization methods\n",
    "import seaborn as sns\n",
    "# Import train_test_split to split the dataset\n",
    "from sklearn.model_selection import train_test_split\n",
    "# Import TfidfVectorizer for vectorizing the text\n",
    "from sklearn.feature_extraction.text import TfidfVectorizer\n",
    "# Import Logistic Regression to develope a model\n",
    "from sklearn.linear_model import LogisticRegression\n",
    "# Import metrics to evaluate the model\n",
    "from sklearn.metrics import accuracy_score, precision_score, recall_score, f1_score, confusion_matrix"
   ]
  },
  {
   "cell_type": "markdown",
   "id": "9675bec0",
   "metadata": {},
   "source": [
    "### Import dataset"
   ]
  },
  {
   "cell_type": "code",
   "execution_count": 2,
   "id": "50d04f49",
   "metadata": {},
   "outputs": [],
   "source": [
    "# Import data from csv file into data frame\n",
    "data = pd.read_csv(\"spam.csv\",encoding=\"ISO-8859-1\")\n",
    "\n",
    "# Select only the desired columns\n",
    "data = data.iloc[:,:2]\n",
    "\n",
    "# Assign proper column names to the attributes\n",
    "data.columns = [\"is_spam\",\"text\"]"
   ]
  },
  {
   "cell_type": "markdown",
   "id": "04443b36",
   "metadata": {},
   "source": [
    "<a id=\"understanding\"><a>\n",
    "## Understanding and summarizing dataset"
   ]
  },
  {
   "cell_type": "code",
   "execution_count": 3,
   "id": "6f47ef3b",
   "metadata": {},
   "outputs": [
    {
     "data": {
      "text/html": [
       "<div>\n",
       "<style scoped>\n",
       "    .dataframe tbody tr th:only-of-type {\n",
       "        vertical-align: middle;\n",
       "    }\n",
       "\n",
       "    .dataframe tbody tr th {\n",
       "        vertical-align: top;\n",
       "    }\n",
       "\n",
       "    .dataframe thead th {\n",
       "        text-align: right;\n",
       "    }\n",
       "</style>\n",
       "<table border=\"1\" class=\"dataframe\">\n",
       "  <thead>\n",
       "    <tr style=\"text-align: right;\">\n",
       "      <th></th>\n",
       "      <th>is_spam</th>\n",
       "      <th>text</th>\n",
       "    </tr>\n",
       "  </thead>\n",
       "  <tbody>\n",
       "    <tr>\n",
       "      <th>0</th>\n",
       "      <td>ham</td>\n",
       "      <td>Go until jurong point, crazy.. Available only ...</td>\n",
       "    </tr>\n",
       "    <tr>\n",
       "      <th>1</th>\n",
       "      <td>ham</td>\n",
       "      <td>Ok lar... Joking wif u oni...</td>\n",
       "    </tr>\n",
       "    <tr>\n",
       "      <th>2</th>\n",
       "      <td>spam</td>\n",
       "      <td>Free entry in 2 a wkly comp to win FA Cup fina...</td>\n",
       "    </tr>\n",
       "    <tr>\n",
       "      <th>3</th>\n",
       "      <td>ham</td>\n",
       "      <td>U dun say so early hor... U c already then say...</td>\n",
       "    </tr>\n",
       "    <tr>\n",
       "      <th>4</th>\n",
       "      <td>ham</td>\n",
       "      <td>Nah I don't think he goes to usf, he lives aro...</td>\n",
       "    </tr>\n",
       "  </tbody>\n",
       "</table>\n",
       "</div>"
      ],
      "text/plain": [
       "  is_spam                                               text\n",
       "0     ham  Go until jurong point, crazy.. Available only ...\n",
       "1     ham                      Ok lar... Joking wif u oni...\n",
       "2    spam  Free entry in 2 a wkly comp to win FA Cup fina...\n",
       "3     ham  U dun say so early hor... U c already then say...\n",
       "4     ham  Nah I don't think he goes to usf, he lives aro..."
      ]
     },
     "execution_count": 3,
     "metadata": {},
     "output_type": "execute_result"
    }
   ],
   "source": [
    "# Display top 5 observations of the dataset\n",
    "data.head()"
   ]
  },
  {
   "cell_type": "code",
   "execution_count": 4,
   "id": "652a0c13",
   "metadata": {},
   "outputs": [
    {
     "name": "stdout",
     "output_type": "stream",
     "text": [
      "Number of records and attributes :  (5572, 2)\n"
     ]
    }
   ],
   "source": [
    "# Check the shape of the dataset\n",
    "print(\"Number of records and attributes : \",data.shape)"
   ]
  },
  {
   "cell_type": "code",
   "execution_count": 5,
   "id": "fc95b9b0",
   "metadata": {},
   "outputs": [
    {
     "name": "stdout",
     "output_type": "stream",
     "text": [
      "<class 'pandas.core.frame.DataFrame'>\n",
      "RangeIndex: 5572 entries, 0 to 5571\n",
      "Data columns (total 2 columns):\n",
      " #   Column   Non-Null Count  Dtype \n",
      "---  ------   --------------  ----- \n",
      " 0   is_spam  5572 non-null   object\n",
      " 1   text     5572 non-null   object\n",
      "dtypes: object(2)\n",
      "memory usage: 87.2+ KB\n"
     ]
    }
   ],
   "source": [
    "# Get basic information about the dataset\n",
    "data.info()"
   ]
  },
  {
   "cell_type": "code",
   "execution_count": 6,
   "id": "a26e3dbd",
   "metadata": {},
   "outputs": [
    {
     "data": {
      "text/html": [
       "<div>\n",
       "<style scoped>\n",
       "    .dataframe tbody tr th:only-of-type {\n",
       "        vertical-align: middle;\n",
       "    }\n",
       "\n",
       "    .dataframe tbody tr th {\n",
       "        vertical-align: top;\n",
       "    }\n",
       "\n",
       "    .dataframe thead th {\n",
       "        text-align: right;\n",
       "    }\n",
       "</style>\n",
       "<table border=\"1\" class=\"dataframe\">\n",
       "  <thead>\n",
       "    <tr style=\"text-align: right;\">\n",
       "      <th></th>\n",
       "      <th>is_spam</th>\n",
       "      <th>text</th>\n",
       "    </tr>\n",
       "  </thead>\n",
       "  <tbody>\n",
       "    <tr>\n",
       "      <th>count</th>\n",
       "      <td>5572</td>\n",
       "      <td>5572</td>\n",
       "    </tr>\n",
       "    <tr>\n",
       "      <th>unique</th>\n",
       "      <td>2</td>\n",
       "      <td>5169</td>\n",
       "    </tr>\n",
       "    <tr>\n",
       "      <th>top</th>\n",
       "      <td>ham</td>\n",
       "      <td>Sorry, I'll call later</td>\n",
       "    </tr>\n",
       "    <tr>\n",
       "      <th>freq</th>\n",
       "      <td>4825</td>\n",
       "      <td>30</td>\n",
       "    </tr>\n",
       "  </tbody>\n",
       "</table>\n",
       "</div>"
      ],
      "text/plain": [
       "       is_spam                    text\n",
       "count     5572                    5572\n",
       "unique       2                    5169\n",
       "top        ham  Sorry, I'll call later\n",
       "freq      4825                      30"
      ]
     },
     "execution_count": 6,
     "metadata": {},
     "output_type": "execute_result"
    }
   ],
   "source": [
    "# Get statistical data of the dataset \n",
    "data.describe(include=object)"
   ]
  },
  {
   "cell_type": "code",
   "execution_count": 7,
   "id": "982f8b88",
   "metadata": {},
   "outputs": [
    {
     "data": {
      "text/plain": [
       "is_spam    0\n",
       "text       0\n",
       "dtype: int64"
      ]
     },
     "execution_count": 7,
     "metadata": {},
     "output_type": "execute_result"
    }
   ],
   "source": [
    "# Check if null values are present in the dataset\n",
    "data.isnull().sum()"
   ]
  },
  {
   "cell_type": "code",
   "execution_count": 8,
   "id": "c84532d0",
   "metadata": {},
   "outputs": [
    {
     "data": {
      "text/plain": [
       "403"
      ]
     },
     "execution_count": 8,
     "metadata": {},
     "output_type": "execute_result"
    }
   ],
   "source": [
    "# Check for duplicated records in the dataset\n",
    "data.duplicated().sum()"
   ]
  },
  {
   "cell_type": "markdown",
   "id": "62d22dde",
   "metadata": {},
   "source": [
    "<a id=\"visualization\"><a>\n",
    "## Data Visualization"
   ]
  },
  {
   "cell_type": "code",
   "execution_count": 9,
   "id": "528e3bd1",
   "metadata": {},
   "outputs": [
    {
     "data": {
      "image/png": "[encoded data removed]",
      "text/plain": [
       "<Figure size 432x288 with 1 Axes>"
      ]
     },
     "metadata": {
      "needs_background": "light"
     },
     "output_type": "display_data"
    }
   ],
   "source": [
    "# Plot a count plot for each class\n",
    "sns.countplot(x=data.is_spam)\n",
    "\n",
    "# Display the plot\n",
    "plt.show()"
   ]
  },
  {
   "cell_type": "markdown",
   "id": "c7b4e38b",
   "metadata": {},
   "source": [
    "<a id=\"preparation\"><a>\n",
    "## Data Preparation"
   ]
  },
  {
   "cell_type": "code",
   "execution_count": 10,
   "id": "1d81e2d9",
   "metadata": {},
   "outputs": [],
   "source": [
    "# Drop duplicate records\n",
    "data.drop_duplicates(inplace=True)"
   ]
  },
  {
   "cell_type": "markdown",
   "id": "c57091d0",
   "metadata": {},
   "source": [
    "### Encoding"
   ]
  },
  {
   "cell_type": "code",
   "execution_count": 11,
   "id": "725897b4",
   "metadata": {},
   "outputs": [],
   "source": [
    "# Dummy encode the categorical attribute using map function\n",
    "data.is_spam = data.is_spam.map({\"ham\":0,\"spam\":1})"
   ]
  },
  {
   "cell_type": "markdown",
   "id": "3c55c5c1",
   "metadata": {},
   "source": [
    "### Test Train split"
   ]
  },
  {
   "cell_type": "code",
   "execution_count": 12,
   "id": "553e9a2c",
   "metadata": {},
   "outputs": [],
   "source": [
    "# Independent attribute\n",
    "X = data.text\n",
    "# Target attribute\n",
    "y = data.is_spam"
   ]
  },
  {
   "cell_type": "code",
   "execution_count": 13,
   "id": "7168f73f",
   "metadata": {},
   "outputs": [],
   "source": [
    "# Perform train test split on the dataset\n",
    "X_train, X_test, y_train, y_test = train_test_split(X, y, test_size=0.2)"
   ]
  },
  {
   "cell_type": "markdown",
   "id": "35c65163",
   "metadata": {},
   "source": [
    "### TF-IDF Vectorization"
   ]
  },
  {
   "cell_type": "code",
   "execution_count": 14,
   "id": "d653b177",
   "metadata": {},
   "outputs": [],
   "source": [
    "# transform the text data to feature vectors that can be used as input to the Logistic regression\n",
    "feature_extraction = TfidfVectorizer(min_df = 1, stop_words='english', lowercase='True')\n",
    "\n",
    "X_train = feature_extraction.fit_transform(X_train)\n",
    "X_test = feature_extraction.transform(X_test)\n",
    "\n",
    "# convert Y_train and Y_test values as integers\n",
    "y_train = y_train.astype('int')\n",
    "y_test = y_test.astype('int')"
   ]
  },
  {
   "cell_type": "markdown",
   "id": "8e149dfe",
   "metadata": {},
   "source": [
    "<a id=\"model_developement\"><a>\n",
    "## Model Developement"
   ]
  },
  {
   "cell_type": "code",
   "execution_count": 15,
   "id": "ccf8ec56",
   "metadata": {},
   "outputs": [
    {
     "data": {
      "text/plain": [
       "LogisticRegression()"
      ]
     },
     "execution_count": 15,
     "metadata": {},
     "output_type": "execute_result"
    }
   ],
   "source": [
    "# Create a model using Logistic Regression\n",
    "model = LogisticRegression()\n",
    "# Fit the model using training data\n",
    "model.fit(X_train,y_train)"
   ]
  },
  {
   "cell_type": "markdown",
   "id": "c0ff0135",
   "metadata": {},
   "source": [
    "<a id=\"evaluation\"><a>\n",
    "## Model Evaluation"
   ]
  },
  {
   "cell_type": "code",
   "execution_count": 16,
   "id": "8778d5a0",
   "metadata": {},
   "outputs": [
    {
     "name": "stdout",
     "output_type": "stream",
     "text": [
      "Metrics for Training data:\n",
      "Accuracy:  0.9642079806529625\n",
      "Precision: 0.9921465968586387\n",
      "Recall: 0.7232824427480916\n",
      "F1 Score: 0.8366445916114791\n"
     ]
    }
   ],
   "source": [
    "# Predict target class for train data\n",
    "y_pred = model.predict(X_train)\n",
    "\n",
    "# Display accuracy of prediction for training data\n",
    "print(\"Metrics for Training data:\")\n",
    "print(\"Accuracy: \", accuracy_score(y_train,y_pred))\n",
    "print(\"Precision:\", precision_score(y_train,y_pred))\n",
    "print(\"Recall:\", recall_score(y_train,y_pred))\n",
    "print(\"F1 Score:\", f1_score(y_train,y_pred))"
   ]
  },
  {
   "cell_type": "code",
   "execution_count": 17,
   "id": "5cb7d6f3",
   "metadata": {},
   "outputs": [
    {
     "name": "stdout",
     "output_type": "stream",
     "text": [
      "Metrics for Test data:\n",
      "Accuracy:  0.9535783365570599\n",
      "Precision: 0.9655172413793104\n",
      "Recall: 0.6511627906976745\n",
      "F1 Score: 0.7777777777777779\n"
     ]
    }
   ],
   "source": [
    "# Predict target class for test data\n",
    "y_pred = model.predict(X_test)\n",
    "\n",
    "# Display accuracy of prediction for training data\n",
    "print(\"Metrics for Test data:\")\n",
    "print(\"Accuracy: \", accuracy_score(y_test,y_pred))\n",
    "print(\"Precision:\", precision_score(y_test,y_pred))\n",
    "print(\"Recall:\", recall_score(y_test,y_pred))\n",
    "print(\"F1 Score:\", f1_score(y_test,y_pred))"
   ]
  },
  {
   "cell_type": "code",
   "execution_count": 18,
   "id": "0a744ba8",
   "metadata": {},
   "outputs": [
    {
     "data": {
      "image/png": "[encoded data removed]",
      "text/plain": [
       "<Figure size 576x432 with 2 Axes>"
      ]
     },
     "metadata": {
      "needs_background": "light"
     },
     "output_type": "display_data"
    }
   ],
   "source": [
    "# Calculate confusion matrix\n",
    "cm = confusion_matrix(y_test, y_pred)\n",
    "\n",
    "# Display confusion matrix as a heatmap\n",
    "plt.figure(figsize=(8, 6))\n",
    "sns.heatmap(cm, annot=True, cmap='Blues', fmt='g')\n",
    "plt.title('Confusion Matrix')\n",
    "plt.xlabel('Predicted')\n",
    "plt.ylabel('True')\n",
    "plt.show()"
   ]
  },
  {
   "cell_type": "markdown",
   "id": "1cb08d5f",
   "metadata": {},
   "source": [
    "<a id=\"conclusion\"><a>\n",
    "## Conclusion"
   ]
  },
  {
   "cell_type": "markdown",
   "id": "977985a1",
   "metadata": {},
   "source": [
    "<p style='text-align: justify; max-width:950px; text-indent: 30px;'>\n",
    "In conclusion, after thorough analysis and implementation, this project successfully developed a spam mail detection system utilizing NLP techniques. The dataset underwent preprocessing steps including text cleaning, tokenization, and vectorization using the TfidfVectorizer. This allowed us to transform the textual data into a numerical representation suitable for training a logistic regression model.\n",
    "<p style='text-align: justify; max-width:950px; text-indent: 30px;'>\n",
    "The trained model exhibited commendable performance, accurately classifying spam and non-spam emails. Evaluation metrics such as accuracy, precision, recall, and F1 score were utilized to assess the model's effectiveness. Additionally, visualizing the confusion matrix provided a comprehensive understanding of the model's predictions, including true positives, true negatives, false positives, and false negatives.\n",
    "<p style='text-align: justify; max-width:950px; text-indent: 30px;'>\n",
    "The developed spam mail detection system has significant implications for enhancing email security and user experience. By effectively identifying and filtering out spam emails, it mitigates the risks associated with unsolicited and potentially harmful content. This contributes to maintaining a safer and more efficient email communication environment.\n",
    "<p style='text-align: justify; max-width:950px; text-indent: 30px;'>\n",
    "Although the project achieved favorable results, there is always room for improvement. Further refinements and fine-tuning of the model can enhance its accuracy and robustness. Exploring alternative algorithms, feature engineering techniques, or advanced text processing methods could yield even better results.\n",
    "<p style='text-align: justify; max-width:950px; text-indent: 30px;'>\n",
    "In summary, the developed spam mail detection system stands as a valuable tool in combating the persistent challenges of email spam. Its implementation contributes to a more secure and reliable email ecosystem, empowering users with enhanced protection against unwanted and malicious content."
   ]
  }
 ],
 "metadata": {
  "kernelspec": {
   "display_name": "Python 3 (ipykernel)",
   "language": "python",
   "name": "python3"
  },
  "language_info": {
   "codemirror_mode": {
    "name": "ipython",
    "version": 3
   },
   "file_extension": ".py",
   "mimetype": "text/x-python",
   "name": "python",
   "nbconvert_exporter": "python",
   "pygments_lexer": "ipython3",
   "version": "3.9.12"
  }
 },
 "nbformat": 4,
 "nbformat_minor": 5
}
